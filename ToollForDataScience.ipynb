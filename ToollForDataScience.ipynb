{
 "cells": [
  {
   "cell_type": "markdown",
   "metadata": {},
   "source": [
    "<h1>Tool for Data Science</h1>"
   ]
  },
  {
   "cell_type": "markdown",
   "metadata": {},
   "source": [
    "<h2>introduction</h2>\n",
    "<p>Jupyter Notebook is a powerful tool for interactive coding, supporting languages like Python and R for data analysis and visualization. It integrates seamlessly with GitHub for version control, allowing easy sharing and collaboration on projects. These tools enhance productivity and facilitate effective data science workflows.</p>\n"
   ]
  },
  {
   "cell_type": "markdown",
   "metadata": {},
   "source": [
    "<h2>list data science languages.</h2>\n",
    "<ol>\n",
    "    <li>Julia</li>\n",
    "    <li>Pyhton</li>\n",
    "    <li>R</li>\n",
    "    <li>SQL</li>\n",
    "</ol>"
   ]
  },
  {
   "cell_type": "markdown",
   "metadata": {},
   "source": [
    "<h2>list data science libraries.</h2>\n",
    "<ol>\n",
    "    <li>Python<ol>\n",
    "        <li>Pandas</li>\n",
    "        <li>NumPy</li>\n",
    "        <li>Matplotlib</li>\n",
    "        <li>Seaborn</li>\n",
    "        <li>Scikit-learn</li>\n",
    "        <li>TensorFlow/Keras</li>\n",
    "        <li>Plotly</li>\n",
    "        <li>Statsmodels</li>\n",
    "        <li>Scrapy</li>\n",
    "    </ol></li>\n",
    "    <li>R<ol>\n",
    "        <li>ggplot2</li>\n",
    "        <li>dplyr</li>\n",
    "        <li>caret</li>\n",
    "        <li>tidyr</li>\n",
    "        <li>shiny</li>\n",
    "    </ol></li>\n",
    "</ol>"
   ]
  },
  {
   "cell_type": "markdown",
   "metadata": {},
   "source": [
    "<h2>table of Data Science tools.</h2>\n",
    "<table>\n",
    "    <tr>\n",
    "        <td><h3>Tool</h3></td>\n",
    "        <td><h3>Example</h3></td>\n",
    "    </tr>\n",
    "    <tr>\n",
    "        <td>Programming Languages</td>\n",
    "        <td><ol>\n",
    "            <li>Julia</li>\n",
    "            <li>Python</li>\n",
    "            <li>R</li>\n",
    "            <li>SQL</li>\n",
    "        </ol></td>\n",
    "    </tr>\n",
    "    <tr>\n",
    "        <td>Integrated Development Environments (IDEs)</td>\n",
    "        <td><ol>\n",
    "            <li>Jupyter Notebook</li>\n",
    "            <li>RStudio</li>\n",
    "            <li>Visual Studio Code</li>\n",
    "            <li>Google Colab</li>\n",
    "        </ol></td>\n",
    "    </tr>\n",
    "    <tr>\n",
    "        <td>Data Visualization Tools</td>\n",
    "        <td><ol>\n",
    "            <li>Matplotlib and Seaborn (Python)</li>\n",
    "            <li>Tableau</li>\n",
    "            <li>Power BI</li>\n",
    "            <li>Plotly</li>\n",
    "        </ol></td>\n",
    "    </tr>\n",
    "    <tr>\n",
    "        <td>Machine Learning Libraries</td>\n",
    "        <td><ol>\n",
    "            <li>Scikit-learn (Python)</li>\n",
    "            <li>TensorFlow (Python)</li>\n",
    "            <li>Keras</li>\n",
    "            <li>XGBoost</li>\n",
    "        </ol></td>\n",
    "    </tr>\n",
    "    <tr>\n",
    "        <td>Big Data Tools</td>\n",
    "        <td><ol>\n",
    "            <li>Apache Hadoop</li>\n",
    "            <li>Apache Spark</li>\n",
    "            <li>Dask (Python)</li>\n",
    "        </ol></td>\n",
    "    </tr>\n",
    "    <tr>\n",
    "        <td>Data Storage and Management</td>\n",
    "        <td><ol>\n",
    "            <li>SQL Databases</li>\n",
    "            <li>NoSQL Databases</li>\n",
    "            <li>Cloud Data Storage</li>\n",
    "        </ol></td>\n",
    "    </tr>\n",
    "    <tr>\n",
    "        <td>Collaboration and Version Control</td>\n",
    "        <td><ol>\n",
    "            <li>Git/GitHub</li>\n",
    "            <li>GitLab</li>\n",
    "            <li>Bitbucket</li>\n",
    "        </ol></td>\n",
    "    </tr>\n",
    "    <tr>\n",
    "        <td>Data Cleaning and Preprocessing Tools</td>\n",
    "        <td><ol>\n",
    "            <li>OpenRefine</li>\n",
    "            <li>Pandas (Python)</li>\n",
    "        </ol></td>\n",
    "    </tr>\n",
    "    <tr>\n",
    "        <td>Cloud Platforms for Data Science</td>\n",
    "        <td><ol>\n",
    "            <li>Google Cloud AI/ML</li>\n",
    "            <li>Amazon Web Services (AWS)</li>\n",
    "            <li>Microsoft Azure</li>\n",
    "        </ol></td>\n",
    "    </tr>\n",
    "</table>"
   ]
  },
  {
   "cell_type": "code",
   "execution_count": 1,
   "metadata": {},
   "outputs": [
    {
     "name": "stdout",
     "output_type": "stream",
     "text": [
      "Multiplication: 15\n",
      "Addition: 8\n"
     ]
    }
   ],
   "source": [
    "# Define two numbers\n",
    "a = 5\n",
    "b = 3\n",
    "\n",
    "# Multiply and add\n",
    "multiplication = a * b\n",
    "addition = a + b\n",
    "\n",
    "# Print results\n",
    "print(\"Multiplication:\", multiplication)\n",
    "print(\"Addition:\", addition)\n"
   ]
  },
  {
   "cell_type": "code",
   "execution_count": 2,
   "metadata": {},
   "outputs": [
    {
     "name": "stdout",
     "output_type": "stream",
     "text": [
      "120 minutes is equal to 2.0 hours.\n"
     ]
    }
   ],
   "source": [
    "# Function to convert minutes to hours\n",
    "def minutes_to_hours(minutes):\n",
    "    hours = minutes / 60\n",
    "    return hours\n",
    "\n",
    "minutes = 120\n",
    "hours = minutes_to_hours(minutes)\n",
    "\n",
    "# Print result\n",
    "print(f\"{minutes} minutes is equal to {hours} hours.\")"
   ]
  },
  {
   "cell_type": "markdown",
   "metadata": {},
   "source": [
    "<h1>Objectives</h1>\n",
    "<ol>\n",
    "    <li>Understand the basics of Jupyter Notebook</li>\n",
    "    <li>Learn how to use Python for data manipulation</li> \n",
    "    <li>Explore data science libraries such as NumPy, Pandas, and Matplotlib</li>\n",
    "    <li>Use GitHub for version control and collaboration</li>\n",
    "    <li>Work with machine learning models in Python</li>\n",
    "</ol>"
   ]
  },
  {
   "cell_type": "markdown",
   "metadata": {},
   "source": [
    "<h3>Author Name:</h3>\n",
    "<h1>Ignacio Gabriel Gamboa Alvarado</h1>"
   ]
  }
 ],
 "metadata": {
  "kernelspec": {
   "display_name": "Python 3",
   "language": "python",
   "name": "python3"
  },
  "language_info": {
   "codemirror_mode": {
    "name": "ipython",
    "version": 3
   },
   "file_extension": ".py",
   "mimetype": "text/x-python",
   "name": "python",
   "nbconvert_exporter": "python",
   "pygments_lexer": "ipython3",
   "version": "3.13.1"
  }
 },
 "nbformat": 4,
 "nbformat_minor": 2
}
